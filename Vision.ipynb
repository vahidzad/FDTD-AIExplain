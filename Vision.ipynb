{
  "nbformat": 4,
  "nbformat_minor": 0,
  "metadata": {
    "colab": {
      "name": "Vision.ipynb",
      "provenance": [],
      "collapsed_sections": [],
      "authorship_tag": "ABX9TyPruxjOkDli/t81k3GVJfz+",
      "include_colab_link": true
    },
    "kernelspec": {
      "name": "python3",
      "display_name": "Python 3"
    },
    "accelerator": "GPU"
  },
  "cells": [
    {
      "cell_type": "markdown",
      "metadata": {
        "id": "view-in-github",
        "colab_type": "text"
      },
      "source": [
        "<a href=\"https://colab.research.google.com/github/vahidzad/vahidzad-When-Computer-vision-meets-Electromagnetics/blob/main/Vision.ipynb\" target=\"_parent\"><img src=\"https://colab.research.google.com/assets/colab-badge.svg\" alt=\"Open In Colab\"/></a>"
      ]
    },
    {
      "cell_type": "code",
      "metadata": {
        "id": "r2mrJi04PE4_",
        "colab": {
          "base_uri": "https://localhost:8080/"
        },
        "outputId": "22a829e2-9af1-498a-801b-f2d3ba319db5"
      },
      "source": [
        "import pandas as pd\n",
        "import numpy as np\n",
        "import matplotlib.pyplot as plt\n",
        "import tensorflow as tf\n",
        "import seaborn as sns\n",
        "tf.test.gpu_device_name()\n",
        "!nvidia-smi"
      ],
      "execution_count": null,
      "outputs": [
        {
          "output_type": "stream",
          "text": [
            "Thu Nov 19 01:15:46 2020       \n",
            "+-----------------------------------------------------------------------------+\n",
            "| NVIDIA-SMI 455.38       Driver Version: 418.67       CUDA Version: 10.1     |\n",
            "|-------------------------------+----------------------+----------------------+\n",
            "| GPU  Name        Persistence-M| Bus-Id        Disp.A | Volatile Uncorr. ECC |\n",
            "| Fan  Temp  Perf  Pwr:Usage/Cap|         Memory-Usage | GPU-Util  Compute M. |\n",
            "|                               |                      |               MIG M. |\n",
            "|===============================+======================+======================|\n",
            "|   0  Tesla T4            Off  | 00000000:00:04.0 Off |                    0 |\n",
            "| N/A   70C    P0    32W /  70W |    227MiB / 15079MiB |      7%      Default |\n",
            "|                               |                      |                 ERR! |\n",
            "+-------------------------------+----------------------+----------------------+\n",
            "                                                                               \n",
            "+-----------------------------------------------------------------------------+\n",
            "| Processes:                                                                  |\n",
            "|  GPU   GI   CI        PID   Type   Process name                  GPU Memory |\n",
            "|        ID   ID                                                   Usage      |\n",
            "|=============================================================================|\n",
            "|  No running processes found                                                 |\n",
            "+-----------------------------------------------------------------------------+\n"
          ],
          "name": "stdout"
        }
      ]
    },
    {
      "cell_type": "code",
      "metadata": {
        "id": "NdAeFN_JPlbx",
        "colab": {
          "base_uri": "https://localhost:8080/"
        },
        "outputId": "a6bb2097-093d-4b28-af8e-f4cef7b75d53"
      },
      "source": [
        "from google.colab import drive\n",
        "drive.mount('/content/drive')"
      ],
      "execution_count": null,
      "outputs": [
        {
          "output_type": "stream",
          "text": [
            "Drive already mounted at /content/drive; to attempt to forcibly remount, call drive.mount(\"/content/drive\", force_remount=True).\n"
          ],
          "name": "stdout"
        }
      ]
    },
    {
      "cell_type": "code",
      "metadata": {
        "id": "YH8lFVQ7ZpHK",
        "colab": {
          "base_uri": "https://localhost:8080/"
        },
        "outputId": "fcf6232d-1f7b-4316-f0ac-70e1aa7f5326"
      },
      "source": [
        "!ls '/content/drive/My Drive/Colab Notebooks/Vision/'"
      ],
      "execution_count": null,
      "outputs": [
        {
          "output_type": "stream",
          "text": [
            "Cross_sections\t Features-2d.txt  Final_Models\tVision.ipynb\n",
            "Features-1d.txt  Features-3d.txt  Raw_indecies\n"
          ],
          "name": "stdout"
        }
      ]
    },
    {
      "cell_type": "code",
      "metadata": {
        "id": "YaMO0O2IPmy3"
      },
      "source": [
        "Index_address = '/content/drive/My Drive/Colab Notebooks/Vision/Raw_indecies/'\n",
        "images_dir = '/content/drive/My Drive/Colab Notebooks/Vision/Cross_sections'\n",
        "Result1D_adress = '/content/drive/My Drive/Colab Notebooks/Vision/Features-1d.txt'\n",
        "Result2D_adress = '/content/drive/My Drive/Colab Notebooks/Vision/Features-2d.txt'\n",
        "Result3D_adress = '/content/drive/My Drive/Colab Notebooks/Vision/Features-3d.txt'"
      ],
      "execution_count": null,
      "outputs": []
    },
    {
      "cell_type": "code",
      "metadata": {
        "id": "O-zB_uMLPm-S",
        "colab": {
          "base_uri": "https://localhost:8080/",
          "height": 72
        },
        "outputId": "45f558a6-ca48-46f6-f738-9d779677232b"
      },
      "source": [
        "# Saving Cross section images in the drive\n",
        "'''\n",
        "for i in range (2386,2427):\n",
        "  Index_address_temp = Index_address + str(i) + \".txt\"\n",
        "  data = pd.read_csv(Index_address_temp, sep='\\t', header = None,engine='python')\n",
        "  ax = sns.heatmap(data, cmap=\"Paired\", xticklabels=False, yticklabels=False,cbar = False , vmin=0, vmax=6)\n",
        "  figure = ax.get_figure()\n",
        "  plt.savefig(f\"{images_dir}/%d.jpg\"%(i))\n",
        "  del data\n",
        "'''"
      ],
      "execution_count": null,
      "outputs": [
        {
          "output_type": "execute_result",
          "data": {
            "application/vnd.google.colaboratory.intrinsic+json": {
              "type": "string"
            },
            "text/plain": [
              "'\\nfor i in range (2386,2427):\\n  Index_address_temp = Index_address + str(i) + \".txt\"\\n  data = pd.read_csv(Index_address_temp, sep=\\'\\t\\', header = None,engine=\\'python\\')\\n  ax = sns.heatmap(data, cmap=\"Paired\", xticklabels=False, yticklabels=False,cbar = False , vmin=0, vmax=6)\\n  figure = ax.get_figure()\\n  plt.savefig(f\"{images_dir}/%d.jpg\"%(i))\\n  del data\\n'"
            ]
          },
          "metadata": {
            "tags": []
          },
          "execution_count": 6
        }
      ]
    },
    {
      "cell_type": "code",
      "metadata": {
        "id": "US5hlo_FPnOv"
      },
      "source": [
        "Result1D = pd.read_csv(Result1D_adress, sep='\\t', header = None,engine='python')\n",
        "Result2D = pd.read_csv(Result2D_adress, sep='\\t', header = None,engine='python')\n",
        "Result3D = pd.read_csv(Result3D_adress, sep='\\t', header = None,engine='python')\n",
        "Results = pd.concat([Result1D, Result2D,Result3D])\n",
        "Results = Results.drop([0],axis=1)  # get rid of the number of layers for now\n",
        "Results_classification = Results.drop([8,9,10],axis=1)"
      ],
      "execution_count": null,
      "outputs": []
    },
    {
      "cell_type": "code",
      "metadata": {
        "id": "oyXg4okMPnRV",
        "colab": {
          "base_uri": "https://localhost:8080/",
          "height": 206
        },
        "outputId": "71eaa9e6-894a-4ef7-9a65-4a8349de256f"
      },
      "source": [
        "Results_classification.tail()"
      ],
      "execution_count": null,
      "outputs": [
        {
          "output_type": "execute_result",
          "data": {
            "text/html": [
              "<div>\n",
              "<style scoped>\n",
              "    .dataframe tbody tr th:only-of-type {\n",
              "        vertical-align: middle;\n",
              "    }\n",
              "\n",
              "    .dataframe tbody tr th {\n",
              "        vertical-align: top;\n",
              "    }\n",
              "\n",
              "    .dataframe thead th {\n",
              "        text-align: right;\n",
              "    }\n",
              "</style>\n",
              "<table border=\"1\" class=\"dataframe\">\n",
              "  <thead>\n",
              "    <tr style=\"text-align: right;\">\n",
              "      <th></th>\n",
              "      <th>1</th>\n",
              "      <th>2</th>\n",
              "      <th>3</th>\n",
              "      <th>4</th>\n",
              "      <th>5</th>\n",
              "      <th>6</th>\n",
              "      <th>7</th>\n",
              "    </tr>\n",
              "  </thead>\n",
              "  <tbody>\n",
              "    <tr>\n",
              "      <th>1495</th>\n",
              "      <td>0</td>\n",
              "      <td>1</td>\n",
              "      <td>0</td>\n",
              "      <td>0</td>\n",
              "      <td>1</td>\n",
              "      <td>0</td>\n",
              "      <td>1</td>\n",
              "    </tr>\n",
              "    <tr>\n",
              "      <th>1496</th>\n",
              "      <td>0</td>\n",
              "      <td>1</td>\n",
              "      <td>0</td>\n",
              "      <td>0</td>\n",
              "      <td>1</td>\n",
              "      <td>0</td>\n",
              "      <td>1</td>\n",
              "    </tr>\n",
              "    <tr>\n",
              "      <th>1497</th>\n",
              "      <td>0</td>\n",
              "      <td>1</td>\n",
              "      <td>0</td>\n",
              "      <td>0</td>\n",
              "      <td>1</td>\n",
              "      <td>0</td>\n",
              "      <td>1</td>\n",
              "    </tr>\n",
              "    <tr>\n",
              "      <th>1498</th>\n",
              "      <td>0</td>\n",
              "      <td>1</td>\n",
              "      <td>0</td>\n",
              "      <td>0</td>\n",
              "      <td>1</td>\n",
              "      <td>0</td>\n",
              "      <td>1</td>\n",
              "    </tr>\n",
              "    <tr>\n",
              "      <th>1499</th>\n",
              "      <td>0</td>\n",
              "      <td>1</td>\n",
              "      <td>0</td>\n",
              "      <td>0</td>\n",
              "      <td>1</td>\n",
              "      <td>0</td>\n",
              "      <td>1</td>\n",
              "    </tr>\n",
              "  </tbody>\n",
              "</table>\n",
              "</div>"
            ],
            "text/plain": [
              "      1  2  3  4  5  6  7\n",
              "1495  0  1  0  0  1  0  1\n",
              "1496  0  1  0  0  1  0  1\n",
              "1497  0  1  0  0  1  0  1\n",
              "1498  0  1  0  0  1  0  1\n",
              "1499  0  1  0  0  1  0  1"
            ]
          },
          "metadata": {
            "tags": []
          },
          "execution_count": 6
        }
      ]
    },
    {
      "cell_type": "code",
      "metadata": {
        "id": "XpXtmcGObXVu",
        "colab": {
          "base_uri": "https://localhost:8080/"
        },
        "outputId": "a4987901-89ca-44bc-b1b7-ff3dfe1e60c8"
      },
      "source": [
        "Results_classification.shape"
      ],
      "execution_count": null,
      "outputs": [
        {
          "output_type": "execute_result",
          "data": {
            "text/plain": [
              "(2426, 7)"
            ]
          },
          "metadata": {
            "tags": []
          },
          "execution_count": 7
        }
      ]
    },
    {
      "cell_type": "code",
      "metadata": {
        "id": "1y_OFaCKbcTN",
        "colab": {
          "base_uri": "https://localhost:8080/"
        },
        "outputId": "b10d34b6-1828-49c6-9094-c9de648e8c8e"
      },
      "source": [
        "#Loading the images\n",
        "from tqdm import tqdm\n",
        "from tensorflow.keras.preprocessing import image\n",
        "\n",
        "Features = []\n",
        "\n",
        "for i in tqdm(range(Results.shape[0])):\n",
        "  path = images_dir +'/'+ str(i+1) + '.jpg'\n",
        "  img = image.load_img(path)\n",
        "  img = image.img_to_array(img)\n",
        "  img = img/255.0\n",
        "  Features.append(img)\n",
        "Features = np.array(Features)"
      ],
      "execution_count": null,
      "outputs": [
        {
          "output_type": "stream",
          "text": [
            "100%|██████████| 2426/2426 [00:08<00:00, 283.39it/s]\n"
          ],
          "name": "stderr"
        }
      ]
    },
    {
      "cell_type": "code",
      "metadata": {
        "id": "ydSev5Ayg0zb",
        "colab": {
          "base_uri": "https://localhost:8080/"
        },
        "outputId": "f3afc34c-884f-45b7-c937-dd1383390a15"
      },
      "source": [
        "Features.shape"
      ],
      "execution_count": null,
      "outputs": [
        {
          "output_type": "execute_result",
          "data": {
            "text/plain": [
              "(2426, 288, 432, 3)"
            ]
          },
          "metadata": {
            "tags": []
          },
          "execution_count": 10
        }
      ]
    },
    {
      "cell_type": "code",
      "metadata": {
        "id": "a2y13mCIg02G",
        "colab": {
          "base_uri": "https://localhost:8080/",
          "height": 287
        },
        "outputId": "0622a5bd-12d7-4aa1-faa6-70d3c0d2675f"
      },
      "source": [
        "plt.imshow(Features[1380])"
      ],
      "execution_count": null,
      "outputs": [
        {
          "output_type": "execute_result",
          "data": {
            "text/plain": [
              "<matplotlib.image.AxesImage at 0x7f0db80ce6d8>"
            ]
          },
          "metadata": {
            "tags": []
          },
          "execution_count": 11
        },
        {
          "output_type": "display_data",
          "data": {
            "image/png": "[encoded data removed]",
            "text/plain": [
              "<Figure size 432x288 with 1 Axes>"
            ]
          },
          "metadata": {
            "tags": [],
            "needs_background": "light"
          }
        }
      ]
    },
    {
      "cell_type": "code",
      "metadata": {
        "id": "FuGG9dm4g0i4"
      },
      "source": [
        "from sklearn.model_selection import train_test_split\n",
        "X_train, X_test, y_train, y_test = train_test_split(Features, Results_classification, random_state = 0, test_size = 0.2)"
      ],
      "execution_count": null,
      "outputs": []
    },
    {
      "cell_type": "code",
      "metadata": {
        "id": "fcXdMCLkj6Li"
      },
      "source": [
        "from tensorflow.keras import Sequential\n",
        "from tensorflow.keras.layers import Flatten, Dense, Dropout, BatchNormalization, Conv2D, MaxPool2D\n",
        "from tensorflow.keras.optimizers import Adam\n",
        "from keras.optimizers import SGD\n",
        "LaekyRelu = tf.keras.layers.LeakyReLU(alpha=0.2)\n",
        "\n",
        "model = Sequential()\n",
        "model.add(Conv2D(50, (3,3), activation='relu', input_shape = X_train[0].shape))\n",
        "#model.add(BatchNormalization())\n",
        "model.add(MaxPool2D(2,2))\n",
        "model.add(Dropout(0.3))\n",
        "\n",
        "model.add(Conv2D(35, (3,3), activation='relu'))\n",
        "#model.add(BatchNormalization())\n",
        "model.add(MaxPool2D(2,2))\n",
        "model.add(Dropout(0.2))\n",
        "\n",
        "model.add(Flatten())\n",
        "\n",
        "model.add(Dense(30, activation='relu'))\n",
        "#model.add(BatchNormalization())\n",
        "model.add(Dropout(0.2))\n",
        "\n",
        "model.add(Dense(15, activation='relu'))\n",
        "#model.add(BatchNormalization())\n",
        "model.add(Dropout(0.2))\n",
        "\n",
        "\n",
        "model.add(Dense(7, activation='sigmoid'))"
      ],
      "execution_count": null,
      "outputs": []
    },
    {
      "cell_type": "code",
      "metadata": {
        "id": "8v0FxaQ-j6Ow",
        "colab": {
          "base_uri": "https://localhost:8080/"
        },
        "outputId": "42bf1aa3-d717-4c66-a08b-0714558af50e"
      },
      "source": [
        "model.summary()"
      ],
      "execution_count": null,
      "outputs": [
        {
          "output_type": "stream",
          "text": [
            "Model: \"sequential\"\n",
            "_________________________________________________________________\n",
            "Layer (type)                 Output Shape              Param #   \n",
            "=================================================================\n",
            "conv2d (Conv2D)              (None, 286, 430, 50)      1400      \n",
            "_________________________________________________________________\n",
            "max_pooling2d (MaxPooling2D) (None, 143, 215, 50)      0         \n",
            "_________________________________________________________________\n",
            "dropout (Dropout)            (None, 143, 215, 50)      0         \n",
            "_________________________________________________________________\n",
            "conv2d_1 (Conv2D)            (None, 141, 213, 35)      15785     \n",
            "_________________________________________________________________\n",
            "max_pooling2d_1 (MaxPooling2 (None, 70, 106, 35)       0         \n",
            "_________________________________________________________________\n",
            "dropout_1 (Dropout)          (None, 70, 106, 35)       0         \n",
            "_________________________________________________________________\n",
            "flatten (Flatten)            (None, 259700)            0         \n",
            "_________________________________________________________________\n",
            "dense (Dense)                (None, 30)                7791030   \n",
            "_________________________________________________________________\n",
            "dropout_2 (Dropout)          (None, 30)                0         \n",
            "_________________________________________________________________\n",
            "dense_1 (Dense)              (None, 15)                465       \n",
            "_________________________________________________________________\n",
            "dropout_3 (Dropout)          (None, 15)                0         \n",
            "_________________________________________________________________\n",
            "dense_2 (Dense)              (None, 7)                 112       \n",
            "=================================================================\n",
            "Total params: 7,808,792\n",
            "Trainable params: 7,808,792\n",
            "Non-trainable params: 0\n",
            "_________________________________________________________________\n"
          ],
          "name": "stdout"
        }
      ]
    },
    {
      "cell_type": "code",
      "metadata": {
        "id": "kIf5OEWTj6R5",
        "colab": {
          "base_uri": "https://localhost:8080/"
        },
        "outputId": "5a9af5c9-d683-4a19-ff17-fdb707842019"
      },
      "source": [
        "tf.keras.backend.clear_session()\n",
        "model.compile(optimizer=Adam(learning_rate=0.001), loss = 'binary_crossentropy', metrics=['accuracy'])\n",
        "callback=tf.keras.callbacks.EarlyStopping(monitor='val_loss', min_delta=0, patience=15, verbose=1, mode='auto',baseline=None, restore_best_weights=False)\n",
        "history = model.fit(X_train, y_train, validation_split=0.2,batch_size=128, epochs=500,callbacks=callback)"
      ],
      "execution_count": null,
      "outputs": [
        {
          "output_type": "stream",
          "text": [
            "Epoch 1/500\n",
            "13/13 [==============================] - 7s 509ms/step - loss: 1.7636 - accuracy: 0.2796 - val_loss: 0.6924 - val_accuracy: 0.0026\n",
            "Epoch 2/500\n",
            "13/13 [==============================] - 6s 465ms/step - loss: 0.6902 - accuracy: 0.3041 - val_loss: 0.6910 - val_accuracy: 0.0670\n",
            "Epoch 3/500\n",
            "13/13 [==============================] - 6s 467ms/step - loss: 0.6826 - accuracy: 0.4034 - val_loss: 0.6841 - val_accuracy: 0.4485\n",
            "Epoch 4/500\n",
            "13/13 [==============================] - 6s 480ms/step - loss: 0.6678 - accuracy: 0.3750 - val_loss: 0.6659 - val_accuracy: 0.3763\n",
            "Epoch 5/500\n",
            "13/13 [==============================] - 6s 470ms/step - loss: 0.6542 - accuracy: 0.3466 - val_loss: 0.6515 - val_accuracy: 0.3737\n",
            "Epoch 6/500\n",
            "13/13 [==============================] - 6s 478ms/step - loss: 0.6404 - accuracy: 0.3956 - val_loss: 0.6429 - val_accuracy: 0.4072\n",
            "Epoch 7/500\n",
            "13/13 [==============================] - 6s 469ms/step - loss: 0.6250 - accuracy: 0.4671 - val_loss: 0.6123 - val_accuracy: 0.5696\n",
            "Epoch 8/500\n",
            "13/13 [==============================] - 6s 470ms/step - loss: 0.6088 - accuracy: 0.5232 - val_loss: 0.5962 - val_accuracy: 0.6263\n",
            "Epoch 9/500\n",
            "13/13 [==============================] - 6s 467ms/step - loss: 0.5859 - accuracy: 0.5393 - val_loss: 0.5727 - val_accuracy: 0.6856\n",
            "Epoch 10/500\n",
            "13/13 [==============================] - 6s 467ms/step - loss: 0.5629 - accuracy: 0.5889 - val_loss: 0.5540 - val_accuracy: 0.6289\n",
            "Epoch 11/500\n",
            "13/13 [==============================] - 6s 470ms/step - loss: 0.5510 - accuracy: 0.5348 - val_loss: 0.5251 - val_accuracy: 0.6263\n",
            "Epoch 12/500\n",
            "13/13 [==============================] - 6s 470ms/step - loss: 0.5346 - accuracy: 0.5593 - val_loss: 0.5228 - val_accuracy: 0.7216\n",
            "Epoch 13/500\n",
            "13/13 [==============================] - 6s 470ms/step - loss: 0.5262 - accuracy: 0.5825 - val_loss: 0.4963 - val_accuracy: 0.7191\n",
            "Epoch 14/500\n",
            "13/13 [==============================] - 6s 464ms/step - loss: 0.5157 - accuracy: 0.5909 - val_loss: 0.4714 - val_accuracy: 0.7345\n",
            "Epoch 15/500\n",
            "13/13 [==============================] - 6s 473ms/step - loss: 0.5094 - accuracy: 0.6108 - val_loss: 0.4902 - val_accuracy: 0.7113\n",
            "Epoch 16/500\n",
            "13/13 [==============================] - 6s 478ms/step - loss: 0.4918 - accuracy: 0.5973 - val_loss: 0.4580 - val_accuracy: 0.7629\n",
            "Epoch 17/500\n",
            "13/13 [==============================] - 6s 473ms/step - loss: 0.4868 - accuracy: 0.6250 - val_loss: 0.4539 - val_accuracy: 0.7474\n",
            "Epoch 18/500\n",
            "13/13 [==============================] - 6s 462ms/step - loss: 0.4811 - accuracy: 0.6314 - val_loss: 0.4400 - val_accuracy: 0.7706\n",
            "Epoch 19/500\n",
            "13/13 [==============================] - 6s 471ms/step - loss: 0.4737 - accuracy: 0.6817 - val_loss: 0.4116 - val_accuracy: 0.7706\n",
            "Epoch 20/500\n",
            "13/13 [==============================] - 6s 476ms/step - loss: 0.4680 - accuracy: 0.6488 - val_loss: 0.4106 - val_accuracy: 0.7784\n",
            "Epoch 21/500\n",
            "13/13 [==============================] - 6s 474ms/step - loss: 0.4699 - accuracy: 0.6527 - val_loss: 0.3993 - val_accuracy: 0.8351\n",
            "Epoch 22/500\n",
            "13/13 [==============================] - 6s 465ms/step - loss: 0.4533 - accuracy: 0.7010 - val_loss: 0.3985 - val_accuracy: 0.8299\n",
            "Epoch 23/500\n",
            "13/13 [==============================] - 6s 475ms/step - loss: 0.4461 - accuracy: 0.6952 - val_loss: 0.3801 - val_accuracy: 0.8402\n",
            "Epoch 24/500\n",
            "13/13 [==============================] - 6s 479ms/step - loss: 0.4344 - accuracy: 0.6688 - val_loss: 0.3857 - val_accuracy: 0.8299\n",
            "Epoch 25/500\n",
            "13/13 [==============================] - 6s 472ms/step - loss: 0.4321 - accuracy: 0.6894 - val_loss: 0.3827 - val_accuracy: 0.8067\n",
            "Epoch 26/500\n",
            "13/13 [==============================] - 6s 469ms/step - loss: 0.4305 - accuracy: 0.7197 - val_loss: 0.3672 - val_accuracy: 0.8866\n",
            "Epoch 27/500\n",
            "13/13 [==============================] - 6s 478ms/step - loss: 0.4261 - accuracy: 0.7055 - val_loss: 0.3708 - val_accuracy: 0.8763\n",
            "Epoch 28/500\n",
            "13/13 [==============================] - 6s 470ms/step - loss: 0.4136 - accuracy: 0.7229 - val_loss: 0.3702 - val_accuracy: 0.8686\n",
            "Epoch 29/500\n",
            "13/13 [==============================] - 6s 472ms/step - loss: 0.4119 - accuracy: 0.7294 - val_loss: 0.3542 - val_accuracy: 0.8943\n",
            "Epoch 30/500\n",
            "13/13 [==============================] - 6s 470ms/step - loss: 0.3979 - accuracy: 0.7133 - val_loss: 0.3350 - val_accuracy: 0.9253\n",
            "Epoch 31/500\n",
            "13/13 [==============================] - 6s 481ms/step - loss: 0.3954 - accuracy: 0.7255 - val_loss: 0.3209 - val_accuracy: 0.8608\n",
            "Epoch 32/500\n",
            "13/13 [==============================] - 6s 477ms/step - loss: 0.3942 - accuracy: 0.7165 - val_loss: 0.3379 - val_accuracy: 0.9227\n",
            "Epoch 33/500\n",
            "13/13 [==============================] - 6s 469ms/step - loss: 0.3851 - accuracy: 0.7307 - val_loss: 0.3184 - val_accuracy: 0.8892\n",
            "Epoch 34/500\n",
            "13/13 [==============================] - 6s 472ms/step - loss: 0.3751 - accuracy: 0.7229 - val_loss: 0.3207 - val_accuracy: 0.9021\n",
            "Epoch 35/500\n",
            "13/13 [==============================] - 6s 466ms/step - loss: 0.3895 - accuracy: 0.7616 - val_loss: 0.3140 - val_accuracy: 0.8969\n",
            "Epoch 36/500\n",
            "13/13 [==============================] - 6s 475ms/step - loss: 0.3770 - accuracy: 0.7590 - val_loss: 0.3060 - val_accuracy: 0.9201\n",
            "Epoch 37/500\n",
            "13/13 [==============================] - 6s 479ms/step - loss: 0.3706 - accuracy: 0.7294 - val_loss: 0.2934 - val_accuracy: 0.9330\n",
            "Epoch 38/500\n",
            "13/13 [==============================] - 6s 478ms/step - loss: 0.3753 - accuracy: 0.7378 - val_loss: 0.2856 - val_accuracy: 0.9175\n",
            "Epoch 39/500\n",
            "13/13 [==============================] - 6s 471ms/step - loss: 0.3645 - accuracy: 0.7332 - val_loss: 0.2889 - val_accuracy: 0.9098\n",
            "Epoch 40/500\n",
            "13/13 [==============================] - 6s 477ms/step - loss: 0.3640 - accuracy: 0.7532 - val_loss: 0.3089 - val_accuracy: 0.8789\n",
            "Epoch 41/500\n",
            "13/13 [==============================] - 6s 469ms/step - loss: 0.3608 - accuracy: 0.7352 - val_loss: 0.2847 - val_accuracy: 0.9046\n",
            "Epoch 42/500\n",
            "13/13 [==============================] - 6s 469ms/step - loss: 0.3542 - accuracy: 0.7448 - val_loss: 0.2813 - val_accuracy: 0.9227\n",
            "Epoch 43/500\n",
            "13/13 [==============================] - 6s 476ms/step - loss: 0.3468 - accuracy: 0.7603 - val_loss: 0.2791 - val_accuracy: 0.9149\n",
            "Epoch 44/500\n",
            "13/13 [==============================] - 6s 473ms/step - loss: 0.3360 - accuracy: 0.7642 - val_loss: 0.2718 - val_accuracy: 0.9021\n",
            "Epoch 45/500\n",
            "13/13 [==============================] - 6s 469ms/step - loss: 0.3440 - accuracy: 0.7693 - val_loss: 0.2548 - val_accuracy: 0.9201\n",
            "Epoch 46/500\n",
            "13/13 [==============================] - 6s 474ms/step - loss: 0.3363 - accuracy: 0.7564 - val_loss: 0.2557 - val_accuracy: 0.8892\n",
            "Epoch 47/500\n",
            "13/13 [==============================] - 6s 477ms/step - loss: 0.3301 - accuracy: 0.7539 - val_loss: 0.2529 - val_accuracy: 0.9072\n",
            "Epoch 48/500\n",
            "13/13 [==============================] - 6s 469ms/step - loss: 0.3338 - accuracy: 0.7590 - val_loss: 0.2516 - val_accuracy: 0.9149\n",
            "Epoch 49/500\n",
            "13/13 [==============================] - 6s 475ms/step - loss: 0.3245 - accuracy: 0.7796 - val_loss: 0.2502 - val_accuracy: 0.9021\n",
            "Epoch 50/500\n",
            "13/13 [==============================] - 6s 473ms/step - loss: 0.3217 - accuracy: 0.7571 - val_loss: 0.2886 - val_accuracy: 0.8557\n",
            "Epoch 51/500\n",
            "13/13 [==============================] - 6s 473ms/step - loss: 0.3223 - accuracy: 0.7642 - val_loss: 0.2530 - val_accuracy: 0.8737\n",
            "Epoch 52/500\n",
            "13/13 [==============================] - 6s 470ms/step - loss: 0.3322 - accuracy: 0.7597 - val_loss: 0.2384 - val_accuracy: 0.8943\n",
            "Epoch 53/500\n",
            "13/13 [==============================] - 6s 478ms/step - loss: 0.3178 - accuracy: 0.7571 - val_loss: 0.2378 - val_accuracy: 0.8995\n",
            "Epoch 54/500\n",
            "13/13 [==============================] - 6s 477ms/step - loss: 0.3228 - accuracy: 0.7545 - val_loss: 0.2199 - val_accuracy: 0.9021\n",
            "Epoch 55/500\n",
            "13/13 [==============================] - 6s 471ms/step - loss: 0.3242 - accuracy: 0.7648 - val_loss: 0.2119 - val_accuracy: 0.9459\n",
            "Epoch 56/500\n",
            "13/13 [==============================] - 6s 468ms/step - loss: 0.3156 - accuracy: 0.7655 - val_loss: 0.2202 - val_accuracy: 0.8995\n",
            "Epoch 57/500\n",
            "13/13 [==============================] - 6s 473ms/step - loss: 0.3153 - accuracy: 0.7700 - val_loss: 0.1957 - val_accuracy: 0.9124\n",
            "Epoch 58/500\n",
            "13/13 [==============================] - 6s 470ms/step - loss: 0.3237 - accuracy: 0.7771 - val_loss: 0.2249 - val_accuracy: 0.9304\n",
            "Epoch 59/500\n",
            "13/13 [==============================] - 6s 475ms/step - loss: 0.3016 - accuracy: 0.7610 - val_loss: 0.2110 - val_accuracy: 0.8479\n",
            "Epoch 60/500\n",
            "13/13 [==============================] - 6s 479ms/step - loss: 0.3011 - accuracy: 0.7558 - val_loss: 0.2180 - val_accuracy: 0.9021\n",
            "Epoch 61/500\n",
            "13/13 [==============================] - 6s 476ms/step - loss: 0.3029 - accuracy: 0.7674 - val_loss: 0.2293 - val_accuracy: 0.8943\n",
            "Epoch 62/500\n",
            "13/13 [==============================] - 6s 471ms/step - loss: 0.3033 - accuracy: 0.7629 - val_loss: 0.2100 - val_accuracy: 0.8582\n",
            "Epoch 63/500\n",
            "13/13 [==============================] - 6s 472ms/step - loss: 0.3095 - accuracy: 0.7577 - val_loss: 0.2240 - val_accuracy: 0.8789\n",
            "Epoch 64/500\n",
            "13/13 [==============================] - 6s 468ms/step - loss: 0.3061 - accuracy: 0.7610 - val_loss: 0.1938 - val_accuracy: 0.8840\n",
            "Epoch 65/500\n",
            "13/13 [==============================] - 6s 471ms/step - loss: 0.3021 - accuracy: 0.7668 - val_loss: 0.2115 - val_accuracy: 0.8428\n",
            "Epoch 66/500\n",
            "13/13 [==============================] - 6s 477ms/step - loss: 0.2968 - accuracy: 0.7532 - val_loss: 0.1908 - val_accuracy: 0.8686\n",
            "Epoch 67/500\n",
            "13/13 [==============================] - 6s 473ms/step - loss: 0.2956 - accuracy: 0.7545 - val_loss: 0.1931 - val_accuracy: 0.8428\n",
            "Epoch 68/500\n",
            "13/13 [==============================] - 6s 474ms/step - loss: 0.2890 - accuracy: 0.7378 - val_loss: 0.1808 - val_accuracy: 0.9072\n",
            "Epoch 69/500\n",
            "13/13 [==============================] - 6s 464ms/step - loss: 0.2864 - accuracy: 0.7590 - val_loss: 0.2177 - val_accuracy: 0.8686\n",
            "Epoch 70/500\n",
            "13/13 [==============================] - 6s 480ms/step - loss: 0.2915 - accuracy: 0.7603 - val_loss: 0.1985 - val_accuracy: 0.8402\n",
            "Epoch 71/500\n",
            "13/13 [==============================] - 6s 476ms/step - loss: 0.3005 - accuracy: 0.7326 - val_loss: 0.1776 - val_accuracy: 0.8737\n",
            "Epoch 72/500\n",
            "13/13 [==============================] - 6s 469ms/step - loss: 0.2800 - accuracy: 0.7423 - val_loss: 0.2080 - val_accuracy: 0.8531\n",
            "Epoch 73/500\n",
            "13/13 [==============================] - 6s 474ms/step - loss: 0.2891 - accuracy: 0.7345 - val_loss: 0.1903 - val_accuracy: 0.8814\n",
            "Epoch 74/500\n",
            "13/13 [==============================] - 6s 473ms/step - loss: 0.2871 - accuracy: 0.7494 - val_loss: 0.1760 - val_accuracy: 0.8814\n",
            "Epoch 75/500\n",
            "13/13 [==============================] - 6s 477ms/step - loss: 0.2888 - accuracy: 0.7255 - val_loss: 0.2020 - val_accuracy: 0.8454\n",
            "Epoch 76/500\n",
            "13/13 [==============================] - 6s 479ms/step - loss: 0.2836 - accuracy: 0.7442 - val_loss: 0.1851 - val_accuracy: 0.8067\n",
            "Epoch 77/500\n",
            "13/13 [==============================] - 6s 479ms/step - loss: 0.2836 - accuracy: 0.7075 - val_loss: 0.1618 - val_accuracy: 0.8582\n",
            "Epoch 78/500\n",
            "13/13 [==============================] - 6s 466ms/step - loss: 0.2721 - accuracy: 0.7236 - val_loss: 0.1877 - val_accuracy: 0.8582\n",
            "Epoch 79/500\n",
            "13/13 [==============================] - 6s 470ms/step - loss: 0.2772 - accuracy: 0.7558 - val_loss: 0.1520 - val_accuracy: 0.8170\n",
            "Epoch 80/500\n",
            "13/13 [==============================] - 6s 468ms/step - loss: 0.2770 - accuracy: 0.7287 - val_loss: 0.1491 - val_accuracy: 0.8531\n",
            "Epoch 81/500\n",
            "13/13 [==============================] - 6s 476ms/step - loss: 0.2769 - accuracy: 0.6856 - val_loss: 0.1546 - val_accuracy: 0.8531\n",
            "Epoch 82/500\n",
            "13/13 [==============================] - 6s 475ms/step - loss: 0.2739 - accuracy: 0.7300 - val_loss: 0.1690 - val_accuracy: 0.8634\n",
            "Epoch 83/500\n",
            "13/13 [==============================] - 6s 457ms/step - loss: 0.2628 - accuracy: 0.7268 - val_loss: 0.1567 - val_accuracy: 0.8196\n",
            "Epoch 84/500\n",
            "13/13 [==============================] - 6s 468ms/step - loss: 0.2650 - accuracy: 0.7281 - val_loss: 0.1439 - val_accuracy: 0.8789\n",
            "Epoch 85/500\n",
            "13/13 [==============================] - 6s 473ms/step - loss: 0.2659 - accuracy: 0.7062 - val_loss: 0.1483 - val_accuracy: 0.8505\n",
            "Epoch 86/500\n",
            "13/13 [==============================] - 6s 468ms/step - loss: 0.2721 - accuracy: 0.7352 - val_loss: 0.1506 - val_accuracy: 0.8582\n",
            "Epoch 87/500\n",
            "13/13 [==============================] - 6s 469ms/step - loss: 0.2630 - accuracy: 0.7171 - val_loss: 0.1455 - val_accuracy: 0.8557\n",
            "Epoch 88/500\n",
            "13/13 [==============================] - 6s 477ms/step - loss: 0.2559 - accuracy: 0.7223 - val_loss: 0.1494 - val_accuracy: 0.8686\n",
            "Epoch 89/500\n",
            "13/13 [==============================] - 6s 466ms/step - loss: 0.2610 - accuracy: 0.7094 - val_loss: 0.1698 - val_accuracy: 0.8351\n",
            "Epoch 90/500\n",
            "13/13 [==============================] - 6s 470ms/step - loss: 0.2607 - accuracy: 0.7004 - val_loss: 0.1518 - val_accuracy: 0.8376\n",
            "Epoch 91/500\n",
            "13/13 [==============================] - 6s 479ms/step - loss: 0.2540 - accuracy: 0.7339 - val_loss: 0.1408 - val_accuracy: 0.8222\n",
            "Epoch 92/500\n",
            "13/13 [==============================] - 6s 473ms/step - loss: 0.2565 - accuracy: 0.7062 - val_loss: 0.1350 - val_accuracy: 0.8479\n",
            "Epoch 93/500\n",
            "13/13 [==============================] - 6s 472ms/step - loss: 0.2416 - accuracy: 0.7300 - val_loss: 0.1329 - val_accuracy: 0.8376\n",
            "Epoch 94/500\n",
            "13/13 [==============================] - 6s 472ms/step - loss: 0.2528 - accuracy: 0.6920 - val_loss: 0.1401 - val_accuracy: 0.8041\n",
            "Epoch 95/500\n",
            "13/13 [==============================] - 6s 473ms/step - loss: 0.2486 - accuracy: 0.6791 - val_loss: 0.1308 - val_accuracy: 0.8428\n",
            "Epoch 96/500\n",
            "13/13 [==============================] - 6s 472ms/step - loss: 0.2430 - accuracy: 0.7004 - val_loss: 0.1400 - val_accuracy: 0.8222\n",
            "Epoch 97/500\n",
            "13/13 [==============================] - 6s 472ms/step - loss: 0.2512 - accuracy: 0.7017 - val_loss: 0.1531 - val_accuracy: 0.8660\n",
            "Epoch 98/500\n",
            "13/13 [==============================] - 6s 471ms/step - loss: 0.2583 - accuracy: 0.7191 - val_loss: 0.1363 - val_accuracy: 0.8737\n",
            "Epoch 99/500\n",
            "13/13 [==============================] - 6s 472ms/step - loss: 0.2491 - accuracy: 0.6978 - val_loss: 0.1311 - val_accuracy: 0.8325\n",
            "Epoch 100/500\n",
            "13/13 [==============================] - 6s 472ms/step - loss: 0.2438 - accuracy: 0.6894 - val_loss: 0.1303 - val_accuracy: 0.8144\n",
            "Epoch 101/500\n",
            "13/13 [==============================] - 6s 473ms/step - loss: 0.2422 - accuracy: 0.7043 - val_loss: 0.1384 - val_accuracy: 0.7990\n",
            "Epoch 102/500\n",
            "13/13 [==============================] - 6s 471ms/step - loss: 0.2420 - accuracy: 0.6959 - val_loss: 0.1279 - val_accuracy: 0.8015\n",
            "Epoch 103/500\n",
            "13/13 [==============================] - 6s 478ms/step - loss: 0.2412 - accuracy: 0.7036 - val_loss: 0.1147 - val_accuracy: 0.8402\n",
            "Epoch 104/500\n",
            "13/13 [==============================] - 6s 480ms/step - loss: 0.2460 - accuracy: 0.6875 - val_loss: 0.1254 - val_accuracy: 0.8015\n",
            "Epoch 105/500\n",
            "13/13 [==============================] - 6s 469ms/step - loss: 0.2331 - accuracy: 0.6914 - val_loss: 0.1143 - val_accuracy: 0.8222\n",
            "Epoch 106/500\n",
            "13/13 [==============================] - 6s 475ms/step - loss: 0.2278 - accuracy: 0.7081 - val_loss: 0.1178 - val_accuracy: 0.8041\n",
            "Epoch 107/500\n",
            "13/13 [==============================] - 6s 480ms/step - loss: 0.2387 - accuracy: 0.6733 - val_loss: 0.1114 - val_accuracy: 0.8093\n",
            "Epoch 108/500\n",
            "13/13 [==============================] - 6s 468ms/step - loss: 0.2501 - accuracy: 0.6707 - val_loss: 0.1119 - val_accuracy: 0.8170\n",
            "Epoch 109/500\n",
            "13/13 [==============================] - 6s 474ms/step - loss: 0.2512 - accuracy: 0.6656 - val_loss: 0.1368 - val_accuracy: 0.7912\n",
            "Epoch 110/500\n",
            "13/13 [==============================] - 6s 480ms/step - loss: 0.2532 - accuracy: 0.6785 - val_loss: 0.1093 - val_accuracy: 0.8041\n",
            "Epoch 111/500\n",
            "13/13 [==============================] - 6s 475ms/step - loss: 0.2392 - accuracy: 0.6720 - val_loss: 0.1077 - val_accuracy: 0.8067\n",
            "Epoch 112/500\n",
            "13/13 [==============================] - 6s 471ms/step - loss: 0.2375 - accuracy: 0.6791 - val_loss: 0.1230 - val_accuracy: 0.7655\n",
            "Epoch 113/500\n",
            "13/13 [==============================] - 6s 473ms/step - loss: 0.2219 - accuracy: 0.6488 - val_loss: 0.1003 - val_accuracy: 0.7964\n",
            "Epoch 114/500\n",
            "13/13 [==============================] - 6s 471ms/step - loss: 0.2392 - accuracy: 0.6830 - val_loss: 0.1111 - val_accuracy: 0.7655\n",
            "Epoch 115/500\n",
            "13/13 [==============================] - 6s 476ms/step - loss: 0.2357 - accuracy: 0.6952 - val_loss: 0.1008 - val_accuracy: 0.7912\n",
            "Epoch 116/500\n",
            "13/13 [==============================] - 6s 475ms/step - loss: 0.2291 - accuracy: 0.6662 - val_loss: 0.1022 - val_accuracy: 0.7835\n",
            "Epoch 117/500\n",
            "13/13 [==============================] - 6s 477ms/step - loss: 0.2308 - accuracy: 0.6617 - val_loss: 0.1058 - val_accuracy: 0.7784\n",
            "Epoch 118/500\n",
            "13/13 [==============================] - 6s 478ms/step - loss: 0.2329 - accuracy: 0.6778 - val_loss: 0.1055 - val_accuracy: 0.7474\n",
            "Epoch 119/500\n",
            "13/13 [==============================] - 6s 468ms/step - loss: 0.2272 - accuracy: 0.6714 - val_loss: 0.1132 - val_accuracy: 0.7448\n",
            "Epoch 120/500\n",
            "13/13 [==============================] - 6s 479ms/step - loss: 0.2290 - accuracy: 0.6733 - val_loss: 0.1146 - val_accuracy: 0.7706\n",
            "Epoch 121/500\n",
            "13/13 [==============================] - 6s 471ms/step - loss: 0.2290 - accuracy: 0.6753 - val_loss: 0.1017 - val_accuracy: 0.7809\n",
            "Epoch 122/500\n",
            "13/13 [==============================] - 6s 478ms/step - loss: 0.2329 - accuracy: 0.6785 - val_loss: 0.1049 - val_accuracy: 0.7552\n",
            "Epoch 123/500\n",
            "13/13 [==============================] - 6s 478ms/step - loss: 0.2310 - accuracy: 0.6701 - val_loss: 0.1081 - val_accuracy: 0.7809\n",
            "Epoch 124/500\n",
            "13/13 [==============================] - 6s 475ms/step - loss: 0.2248 - accuracy: 0.6798 - val_loss: 0.1017 - val_accuracy: 0.7680\n",
            "Epoch 125/500\n",
            "13/13 [==============================] - 6s 471ms/step - loss: 0.2290 - accuracy: 0.6688 - val_loss: 0.1222 - val_accuracy: 0.7397\n",
            "Epoch 126/500\n",
            "13/13 [==============================] - 6s 472ms/step - loss: 0.2320 - accuracy: 0.6662 - val_loss: 0.0976 - val_accuracy: 0.7526\n",
            "Epoch 127/500\n",
            "13/13 [==============================] - 6s 479ms/step - loss: 0.2250 - accuracy: 0.6598 - val_loss: 0.0970 - val_accuracy: 0.7809\n",
            "Epoch 128/500\n",
            "13/13 [==============================] - 6s 472ms/step - loss: 0.2341 - accuracy: 0.6604 - val_loss: 0.1137 - val_accuracy: 0.7526\n",
            "Epoch 129/500\n",
            "13/13 [==============================] - 6s 478ms/step - loss: 0.2239 - accuracy: 0.6624 - val_loss: 0.1073 - val_accuracy: 0.7552\n",
            "Epoch 130/500\n",
            "13/13 [==============================] - 6s 478ms/step - loss: 0.2330 - accuracy: 0.6727 - val_loss: 0.1164 - val_accuracy: 0.7655\n",
            "Epoch 131/500\n",
            "13/13 [==============================] - 6s 475ms/step - loss: 0.2218 - accuracy: 0.6662 - val_loss: 0.1012 - val_accuracy: 0.7603\n",
            "Epoch 132/500\n",
            "13/13 [==============================] - 6s 471ms/step - loss: 0.2145 - accuracy: 0.6914 - val_loss: 0.0989 - val_accuracy: 0.7603\n",
            "Epoch 133/500\n",
            "13/13 [==============================] - 6s 475ms/step - loss: 0.2337 - accuracy: 0.6508 - val_loss: 0.1049 - val_accuracy: 0.7474\n",
            "Epoch 134/500\n",
            "13/13 [==============================] - 6s 469ms/step - loss: 0.2146 - accuracy: 0.6630 - val_loss: 0.1023 - val_accuracy: 0.7526\n",
            "Epoch 135/500\n",
            "13/13 [==============================] - 6s 476ms/step - loss: 0.2208 - accuracy: 0.6637 - val_loss: 0.1017 - val_accuracy: 0.7526\n",
            "Epoch 136/500\n",
            "13/13 [==============================] - 6s 484ms/step - loss: 0.2263 - accuracy: 0.6514 - val_loss: 0.1005 - val_accuracy: 0.7552\n",
            "Epoch 137/500\n",
            "13/13 [==============================] - 6s 474ms/step - loss: 0.2203 - accuracy: 0.6611 - val_loss: 0.1053 - val_accuracy: 0.7448\n",
            "Epoch 138/500\n",
            "13/13 [==============================] - 6s 473ms/step - loss: 0.2144 - accuracy: 0.6682 - val_loss: 0.0945 - val_accuracy: 0.7500\n",
            "Epoch 139/500\n",
            "13/13 [==============================] - 6s 469ms/step - loss: 0.2137 - accuracy: 0.6849 - val_loss: 0.0975 - val_accuracy: 0.7500\n",
            "Epoch 140/500\n",
            "13/13 [==============================] - 6s 469ms/step - loss: 0.2175 - accuracy: 0.6811 - val_loss: 0.0947 - val_accuracy: 0.7552\n",
            "Epoch 141/500\n",
            "13/13 [==============================] - 6s 470ms/step - loss: 0.2242 - accuracy: 0.6630 - val_loss: 0.0963 - val_accuracy: 0.7371\n",
            "Epoch 142/500\n",
            "13/13 [==============================] - 6s 470ms/step - loss: 0.2136 - accuracy: 0.6527 - val_loss: 0.0960 - val_accuracy: 0.7500\n",
            "Epoch 143/500\n",
            "13/13 [==============================] - 6s 473ms/step - loss: 0.2276 - accuracy: 0.6772 - val_loss: 0.1021 - val_accuracy: 0.7552\n",
            "Epoch 144/500\n",
            "13/13 [==============================] - 6s 469ms/step - loss: 0.2231 - accuracy: 0.6514 - val_loss: 0.0884 - val_accuracy: 0.7448\n",
            "Epoch 145/500\n",
            "13/13 [==============================] - 6s 468ms/step - loss: 0.2267 - accuracy: 0.6585 - val_loss: 0.0903 - val_accuracy: 0.7448\n",
            "Epoch 146/500\n",
            "13/13 [==============================] - 6s 476ms/step - loss: 0.2129 - accuracy: 0.6514 - val_loss: 0.0896 - val_accuracy: 0.7397\n",
            "Epoch 147/500\n",
            "13/13 [==============================] - 6s 477ms/step - loss: 0.2071 - accuracy: 0.6514 - val_loss: 0.0935 - val_accuracy: 0.7423\n",
            "Epoch 148/500\n",
            "13/13 [==============================] - 6s 471ms/step - loss: 0.2180 - accuracy: 0.6688 - val_loss: 0.1113 - val_accuracy: 0.7397\n",
            "Epoch 149/500\n",
            "13/13 [==============================] - 6s 472ms/step - loss: 0.2109 - accuracy: 0.6714 - val_loss: 0.0950 - val_accuracy: 0.7784\n",
            "Epoch 150/500\n",
            "13/13 [==============================] - 6s 472ms/step - loss: 0.2143 - accuracy: 0.6927 - val_loss: 0.0938 - val_accuracy: 0.7448\n",
            "Epoch 151/500\n",
            "13/13 [==============================] - 6s 469ms/step - loss: 0.2107 - accuracy: 0.6630 - val_loss: 0.0894 - val_accuracy: 0.7474\n",
            "Epoch 152/500\n",
            "13/13 [==============================] - 6s 468ms/step - loss: 0.2140 - accuracy: 0.6591 - val_loss: 0.0781 - val_accuracy: 0.7629\n",
            "Epoch 153/500\n",
            "13/13 [==============================] - 6s 478ms/step - loss: 0.2191 - accuracy: 0.6624 - val_loss: 0.0916 - val_accuracy: 0.7448\n",
            "Epoch 154/500\n",
            "13/13 [==============================] - 6s 476ms/step - loss: 0.2173 - accuracy: 0.6733 - val_loss: 0.0869 - val_accuracy: 0.7500\n",
            "Epoch 155/500\n",
            "13/13 [==============================] - 6s 468ms/step - loss: 0.2125 - accuracy: 0.6611 - val_loss: 0.0849 - val_accuracy: 0.7474\n",
            "Epoch 156/500\n",
            "13/13 [==============================] - 6s 465ms/step - loss: 0.2204 - accuracy: 0.6521 - val_loss: 0.0893 - val_accuracy: 0.7294\n",
            "Epoch 157/500\n",
            "13/13 [==============================] - 6s 467ms/step - loss: 0.2157 - accuracy: 0.6514 - val_loss: 0.0932 - val_accuracy: 0.7448\n",
            "Epoch 158/500\n",
            "13/13 [==============================] - 6s 471ms/step - loss: 0.2157 - accuracy: 0.6508 - val_loss: 0.0910 - val_accuracy: 0.7474\n",
            "Epoch 159/500\n",
            "13/13 [==============================] - 6s 474ms/step - loss: 0.2060 - accuracy: 0.6946 - val_loss: 0.0874 - val_accuracy: 0.7397\n",
            "Epoch 160/500\n",
            "13/13 [==============================] - 6s 476ms/step - loss: 0.1980 - accuracy: 0.6495 - val_loss: 0.0823 - val_accuracy: 0.7423\n",
            "Epoch 161/500\n",
            "13/13 [==============================] - 6s 471ms/step - loss: 0.2156 - accuracy: 0.6430 - val_loss: 0.0836 - val_accuracy: 0.7474\n",
            "Epoch 162/500\n",
            "13/13 [==============================] - 6s 476ms/step - loss: 0.2162 - accuracy: 0.6508 - val_loss: 0.0789 - val_accuracy: 0.7448\n",
            "Epoch 163/500\n",
            "13/13 [==============================] - 6s 476ms/step - loss: 0.2037 - accuracy: 0.6611 - val_loss: 0.0894 - val_accuracy: 0.7423\n",
            "Epoch 164/500\n",
            "13/13 [==============================] - 6s 467ms/step - loss: 0.2119 - accuracy: 0.6604 - val_loss: 0.0830 - val_accuracy: 0.7320\n",
            "Epoch 165/500\n",
            "13/13 [==============================] - 6s 471ms/step - loss: 0.2134 - accuracy: 0.6585 - val_loss: 0.0909 - val_accuracy: 0.7706\n",
            "Epoch 166/500\n",
            "13/13 [==============================] - 6s 481ms/step - loss: 0.2033 - accuracy: 0.6682 - val_loss: 0.0837 - val_accuracy: 0.7345\n",
            "Epoch 167/500\n",
            "13/13 [==============================] - 6s 466ms/step - loss: 0.2081 - accuracy: 0.6637 - val_loss: 0.0982 - val_accuracy: 0.7629\n",
            "Epoch 00167: early stopping\n"
          ],
          "name": "stdout"
        }
      ]
    },
    {
      "cell_type": "markdown",
      "metadata": {
        "id": "xif67m41FzxS"
      },
      "source": [
        "#best model so far = \n",
        "16 - 32 - 32 with tanh and SGD (defult) (3,3)\n",
        "\n",
        "16 - 32 - 16 with tanh and SGD (defult) (3,3)\n",
        "\n",
        "16 - 32 - 16 with tanh and SGD (0.001) (3,3) without batch normalizaton graphs looks good\n",
        "\n",
        "20 - 30 - 20 - 10 with tanh and SGD (0.001) (3,3) without batch normalizaton graphs looks good\n",
        "\n",
        "30-25-25-15 with Relu and Adam (0.001) without batch normalizaton graphs looks good\n"
      ]
    },
    {
      "cell_type": "code",
      "metadata": {
        "id": "lR9-epF1bcXF",
        "colab": {
          "base_uri": "https://localhost:8080/",
          "height": 573
        },
        "outputId": "dd6ee04f-6bc2-408a-be33-459f8860f413"
      },
      "source": [
        "def plot_learningCurve(history, epoch):\n",
        "  # Plot training & validation accuracy values\n",
        "  epoch_range = range(1, epoch+1)\n",
        "  plt.plot(epoch_range, history.history['accuracy'])\n",
        "  plt.plot(epoch_range, history.history['val_accuracy'])\n",
        "  plt.title('Model accuracy')\n",
        "  plt.ylabel('Accuracy')\n",
        "  plt.xlabel('Epoch')\n",
        "  plt.legend(['Train', 'Val'], loc='upper left')\n",
        "  plt.show()\n",
        "\n",
        "  # Plot training & validation loss values\n",
        "  plt.plot(epoch_range, history.history['loss'])\n",
        "  plt.plot(epoch_range, history.history['val_loss'])\n",
        "  plt.title('Model loss')\n",
        "  plt.ylabel('Loss')\n",
        "  plt.xlabel('Epoch')\n",
        "  plt.legend(['Train', 'Val'], loc='upper left')\n",
        "  plt.show()\n",
        "\n",
        "plot_learningCurve(history, len(history.history['loss']))"
      ],
      "execution_count": null,
      "outputs": [
        {
          "output_type": "display_data",
          "data": {
            "image/png": "[encoded data removed]",
            "text/plain": [
              "<Figure size 432x288 with 1 Axes>"
            ]
          },
          "metadata": {
            "tags": [],
            "needs_background": "light"
          }
        },
        {
          "output_type": "display_data",
          "data": {
            "image/png": "[encoded data removed]",
            "text/plain": [
              "<Figure size 432x288 with 1 Axes>"
            ]
          },
          "metadata": {
            "tags": [],
            "needs_background": "light"
          }
        }
      ]
    },
    {
      "cell_type": "code",
      "metadata": {
        "colab": {
          "base_uri": "https://localhost:8080/"
        },
        "id": "pkw8WVh6ucJw",
        "outputId": "f5ff6f3c-bc7b-47cf-d4ae-d4feddf063c2"
      },
      "source": [
        "X_train[0].shape"
      ],
      "execution_count": null,
      "outputs": [
        {
          "output_type": "execute_result",
          "data": {
            "text/plain": [
              "(288, 432, 3)"
            ]
          },
          "metadata": {
            "tags": []
          },
          "execution_count": 50
        }
      ]
    },
    {
      "cell_type": "code",
      "metadata": {
        "colab": {
          "base_uri": "https://localhost:8080/"
        },
        "id": "STvwrkvTp6Qn",
        "outputId": "c2808123-7450-4ac8-f1dc-7729e8260228"
      },
      "source": [
        "X_test[0].shape"
      ],
      "execution_count": null,
      "outputs": [
        {
          "output_type": "execute_result",
          "data": {
            "text/plain": [
              "(288, 432, 3)"
            ]
          },
          "metadata": {
            "tags": []
          },
          "execution_count": 46
        }
      ]
    },
    {
      "cell_type": "code",
      "metadata": {
        "colab": {
          "base_uri": "https://localhost:8080/"
        },
        "id": "iYX0cYG7pzth",
        "outputId": "bbb404ae-5de8-4890-f131-affe3598575d"
      },
      "source": [
        "i = 5\n",
        "print(model.predict(X_test[i].reshape(1,288,432,3)))\n",
        "print(y_train.iloc[i,:])"
      ],
      "execution_count": null,
      "outputs": [
        {
          "output_type": "stream",
          "text": [
            "[[0.03171892 0.9664589  0.9856279  0.00787232 0.11716323 0.09817322\n",
            "  0.3561813 ]]\n",
            "1    0\n",
            "2    1\n",
            "3    1\n",
            "4    0\n",
            "5    0\n",
            "6    1\n",
            "7    0\n",
            "Name: 802, dtype: int64\n"
          ],
          "name": "stdout"
        }
      ]
    },
    {
      "cell_type": "code",
      "metadata": {
        "id": "ujMXN_snpjqT"
      },
      "source": [
        "#saving the model\n",
        "#model.save('Vision_classifier1.h5')"
      ],
      "execution_count": null,
      "outputs": []
    },
    {
      "cell_type": "code",
      "metadata": {
        "id": "TCeK8Kq_prpl"
      },
      "source": [
        ""
      ],
      "execution_count": null,
      "outputs": []
    },
    {
      "cell_type": "code",
      "metadata": {
        "id": "yHnUr9ntprsZ"
      },
      "source": [
        ""
      ],
      "execution_count": null,
      "outputs": []
    },
    {
      "cell_type": "code",
      "metadata": {
        "id": "Z3bipoABprvY"
      },
      "source": [
        ""
      ],
      "execution_count": null,
      "outputs": []
    },
    {
      "cell_type": "code",
      "metadata": {
        "id": "MKxiYLI0przg"
      },
      "source": [
        ""
      ],
      "execution_count": null,
      "outputs": []
    }
  ]
}